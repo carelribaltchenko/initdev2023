{
 "cells": [
  {
   "cell_type": "markdown",
   "metadata": {},
   "source": [
    "# Exercice 1 :"
   ]
  },
  {
   "cell_type": "markdown",
   "metadata": {},
   "source": [
    "# 1.1"
   ]
  },
  {
   "cell_type": "markdown",
   "metadata": {},
   "source": [
    "Pierre devra recevoir 7.6 €   \n",
    "Marie devra recevoir 23.6 €  \n",
    "Anna devra recevoir 21.6 €  \n",
    "Béatrice devra verser 22.4 €  \n",
    "Sasha devra verser 30.4 €  "
   ]
  },
  {
   "cell_type": "markdown",
   "metadata": {},
   "source": [
    "## 1.2"
   ]
  },
  {
   "cell_type": "code",
   "execution_count": 120,
   "metadata": {},
   "outputs": [],
   "source": [
    "week_end_mai = { 'Pierre' : [12,70,10], 'Paul' : [100], 'Marie' : [15], 'Anna' : []}\n",
    "week_end_juin = {'Pierre' : [15,12,8,3], 'Marie' : [20,34], 'Anna' : [52], 'Béatrice' : [8], 'Sasha' : []}"
   ]
  },
  {
   "cell_type": "markdown",
   "metadata": {},
   "source": [
    "## 1.3"
   ]
  },
  {
   "cell_type": "code",
   "execution_count": 121,
   "metadata": {},
   "outputs": [],
   "source": [
    "def affiche_bilan_financier(weekend):\n",
    "    \"\"\"affiche le nombre de sous que chacun doit persevoir ou donner à l'issue du sejour\n",
    "\n",
    "    Args:\n",
    "        weekend (dico): le dico du weekend\n",
    "    \"\"\"    \n",
    "    moy = moyenne(weekend)\n",
    "    somme_tot=0\n",
    "    for prenoms, listes in weekend.items():\n",
    "        if listes==[]:\n",
    "            print (prenoms, \"devra verser\", moy, \"€\")\n",
    "        else:\n",
    "            for elt in weekend[prenoms]:\n",
    "                somme_tot+=elt\n",
    "            if somme_tot>moy :\n",
    "                print(prenoms, \"doit recevoir\", somme_tot - moy, '€')\n",
    "                somme_tot=0\n",
    "            elif somme_tot < moy :\n",
    "                print(prenoms, \"doit donner\", moy - somme_tot, '€')\n",
    "                somme_tot=0\n",
    "            else:\n",
    "                print(prenoms, \"a paye pile le montant qu'il faut\")\n",
    "                somme_tot=0\n"
   ]
  },
  {
   "cell_type": "code",
   "execution_count": 122,
   "metadata": {},
   "outputs": [],
   "source": [
    "def moyenne(weekend):\n",
    "    \"\"\"renvoie la moyenne d'argent qui a été dépensé durant ce weekend\n",
    "\n",
    "    Args:\n",
    "        weekend (dico): le dictionnaire du weekend\n",
    "\n",
    "    Returns:\n",
    "        float: la moyenne de l'argent dépensé\n",
    "    \"\"\"    \n",
    "    cpt=0\n",
    "    somm=0\n",
    "    for listes in weekend.values():\n",
    "        cpt+=1\n",
    "        for elt in listes:\n",
    "            somm+=elt\n",
    "    return somm/cpt\n"
   ]
  },
  {
   "cell_type": "code",
   "execution_count": 123,
   "metadata": {},
   "outputs": [
    {
     "name": "stdout",
     "output_type": "stream",
     "text": [
      "Pierre doit recevoir 40.25 €\n",
      "Paul doit recevoir 48.25 €\n",
      "Marie doit donner 36.75 €\n",
      "Anna devra verser 51.75 €\n"
     ]
    }
   ],
   "source": [
    "affiche_bilan_financier(week_end_mai)"
   ]
  },
  {
   "cell_type": "code",
   "execution_count": 124,
   "metadata": {},
   "outputs": [
    {
     "name": "stdout",
     "output_type": "stream",
     "text": [
      "Pierre doit recevoir 7.600000000000001 €\n",
      "Marie doit recevoir 23.6 €\n",
      "Anna doit recevoir 21.6 €\n",
      "Béatrice doit donner 22.4 €\n",
      "Sasha devra verser 30.4 €\n"
     ]
    }
   ],
   "source": [
    "affiche_bilan_financier(week_end_juin)"
   ]
  },
  {
   "cell_type": "markdown",
   "metadata": {},
   "source": [
    "# Exercice 2"
   ]
  },
  {
   "cell_type": "markdown",
   "metadata": {},
   "source": [
    "### ASSOTIATION DES TIMIDES MALADIFS :"
   ]
  },
  {
   "cell_type": "code",
   "execution_count": 125,
   "metadata": {},
   "outputs": [],
   "source": [
    "ATM={'Armand':'Beatrice','Beatrice':'Cesar','Cesar':'Dalida',\n",
    "     'Dalida':'Cesar','Etienne':'Beatrice','Firmin':'Henri',\n",
    "     'Gaston':'Beatrice','Henri':'Firmin'}"
   ]
  },
  {
   "cell_type": "markdown",
   "metadata": {},
   "source": [
    "## 2.1"
   ]
  },
  {
   "cell_type": "code",
   "execution_count": 126,
   "metadata": {},
   "outputs": [],
   "source": [
    "def amour_reciproque(tinder):\n",
    "    \"\"\"renvoie la liste des gens qui sont amoureux les uns des autres\n",
    "\n",
    "    Args:\n",
    "        tinder (dico): key : str ; le gens, values, la personne a   i^mée\n",
    "\n",
    "    Returns:\n",
    "        set: les couples qui s'aiment\n",
    "    \"\"\"    \n",
    "    res = set()\n",
    "    for nom in tinder.keys() : \n",
    "        kiss=tinder[nom]\n",
    "        if tinder[kiss]==nom and (not (nom,kiss) in res):\n",
    "            res.add((kiss, nom))\n",
    "    return res\n",
    "    "
   ]
  },
  {
   "cell_type": "code",
   "execution_count": 127,
   "metadata": {},
   "outputs": [
    {
     "name": "stdout",
     "output_type": "stream",
     "text": [
      "{('Henri', 'Firmin'), ('Dalida', 'Cesar')}\n"
     ]
    }
   ],
   "source": [
    "print(amour_reciproque(ATM))"
   ]
  },
  {
   "cell_type": "markdown",
   "metadata": {},
   "source": [
    "## 2.2"
   ]
  },
  {
   "cell_type": "code",
   "execution_count": 128,
   "metadata": {},
   "outputs": [],
   "source": [
    "def soupirants(ATM, personne):\n",
    "    \"\"\"renvoie tout ceux qu'il faut buter afin de pécho melanie\n",
    "\n",
    "    Args:\n",
    "        ATM (dict): la même qu'avant \n",
    "        personne (str): tu le fais expres c'est dans le nom\n",
    "\n",
    "    Returns:\n",
    "        ens: la liste de schiendler\n",
    "    \"\"\"    \n",
    "    res=set()\n",
    "    for nom, amour in ATM.items():\n",
    "        if amour==personne:\n",
    "            res.add(nom)\n",
    "    return res"
   ]
  },
  {
   "cell_type": "code",
   "execution_count": 129,
   "metadata": {},
   "outputs": [
    {
     "name": "stdout",
     "output_type": "stream",
     "text": [
      "{'Etienne', 'Gaston', 'Armand'}\n"
     ]
    }
   ],
   "source": [
    "print(soupirants(ATM, 'Beatrice'))"
   ]
  },
  {
   "cell_type": "markdown",
   "metadata": {},
   "source": [
    "# Exercice 3 :"
   ]
  },
  {
   "cell_type": "markdown",
   "metadata": {},
   "source": [
    "## 3.1 :"
   ]
  }
 ],
 "metadata": {
  "kernelspec": {
   "display_name": "Python 3",
   "language": "python",
   "name": "python3"
  },
  "language_info": {
   "codemirror_mode": {
    "name": "ipython",
    "version": 3
   },
   "file_extension": ".py",
   "mimetype": "text/x-python",
   "name": "python",
   "nbconvert_exporter": "python",
   "pygments_lexer": "ipython3",
   "version": "3.10.12"
  }
 },
 "nbformat": 4,
 "nbformat_minor": 2
}
